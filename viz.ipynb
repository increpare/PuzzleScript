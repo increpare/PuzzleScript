{
 "cells": [
  {
   "cell_type": "code",
   "execution_count": 24,
   "metadata": {},
   "outputs": [],
   "source": [
    "import json\n",
    "import os\n",
    "\n",
    "import pandas as pd\n",
    "\n",
    "\n",
    "brainstorm_path = os.path.join('logs', 'brainstorm_s-0.json')\n",
    "with open(brainstorm_path, 'r') as f:\n",
    "    data = json.load(f)\n",
    "\n",
    "# Create a DataFrame from the list\n",
    "df = pd.DataFrame(data, columns=[\"Game Ideas\"])\n",
    "\n",
    "# Replace any `&` characters with `\\&` to escape them in LaTeX\n",
    "df[\"Game Ideas\"] = df[\"Game Ideas\"].str.replace(\"&\", \"\\\\&\")\n",
    "\n",
    "# Place `\\hangindent` before the first column to indent the text\n",
    "df[\"Game Ideas\"] = df[\"Game Ideas\"].apply(lambda x: \"\\\\hangindent=2em \" + x)\n",
    "\n",
    "# Convert the DataFrame to LaTeX table format\n",
    "latex_table = df.to_latex(index=False, header=True, escape=False, column_format='p{0.9\\\\textwidth}')\n",
    "\n",
    "# Write the LaTeX table to a file\n",
    "latex_table_path = os.path.join('logs', 'brainstorm_table.tex')\n",
    "\n",
    "with open(latex_table_path, 'w') as f:\n",
    "    f.write(latex_table)"
   ]
  }
 ],
 "metadata": {
  "kernelspec": {
   "display_name": "base",
   "language": "python",
   "name": "python3"
  },
  "language_info": {
   "codemirror_mode": {
    "name": "ipython",
    "version": 3
   },
   "file_extension": ".py",
   "mimetype": "text/x-python",
   "name": "python",
   "nbconvert_exporter": "python",
   "pygments_lexer": "ipython3",
   "version": "3.12.7"
  }
 },
 "nbformat": 4,
 "nbformat_minor": 2
}
